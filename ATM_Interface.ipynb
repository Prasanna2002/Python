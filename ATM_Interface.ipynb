{
 "cells": [
  {
   "cell_type": "markdown",
   "id": "2e87ca5d-a8c9-44c0-84de-75b56db7cf5a",
   "metadata": {},
   "source": [
    "# OCTANET PYTHON _ ATM INTERFACE"
   ]
  },
  {
   "cell_type": "code",
   "execution_count": 15,
   "id": "5b0016d3-a919-42bc-b568-5dba992366ce",
   "metadata": {},
   "outputs": [
    {
     "name": "stdout",
     "output_type": "stream",
     "text": [
      "                    --------------------------------------\n",
      "                    --------------------------------------\n",
      "                        * *      *******     *      *\n",
      "                       *   *        *       *  *  *  *\n",
      "                      *******       *      *     *     *\n",
      "                     *       *      *     *             *\n",
      "\n",
      "                    --------------------------------------\n",
      "                    --------------------------------------\n",
      "\n",
      "\n"
     ]
    },
    {
     "name": "stdin",
     "output_type": "stream",
     "text": [
      "Enter UserID :  udey\n",
      "Enter the PIN :  9856\n"
     ]
    },
    {
     "name": "stdout",
     "output_type": "stream",
     "text": [
      "Wrong Credentials Check Password or UserName.\n",
      "\n"
     ]
    },
    {
     "name": "stdin",
     "output_type": "stream",
     "text": [
      "Enter UserID :  uday\n",
      "Enter the PIN :  9844\n"
     ]
    },
    {
     "name": "stdout",
     "output_type": "stream",
     "text": [
      "\n",
      "AUTHENTICATION SUCCESSFULL\n",
      "\n",
      "---------------------------------------\n",
      "\n",
      "        WELCOME\n",
      "\n",
      "---------------------------------------\n",
      "\n"
     ]
    },
    {
     "name": "stdin",
     "output_type": "stream",
     "text": [
      "Available Services\n",
      "\n",
      "1. WITHDRAW\n",
      "2. DEPOSIT\n",
      "3. TRANSFER\n",
      "4. TRANSACTION HISTORY\n",
      "5. BALANCE\n",
      "6. QUIT\n",
      "Select The Option    1\n"
     ]
    },
    {
     "name": "stdout",
     "output_type": "stream",
     "text": [
      "---------------------------------------\n",
      "\n"
     ]
    },
    {
     "name": "stdin",
     "output_type": "stream",
     "text": [
      "Enter the Amount :  -785\n"
     ]
    },
    {
     "name": "stdout",
     "output_type": "stream",
     "text": [
      "Enter Valid Amount\n",
      "\n"
     ]
    },
    {
     "name": "stdin",
     "output_type": "stream",
     "text": [
      "Enter the Amount :  7856\n"
     ]
    },
    {
     "name": "stdout",
     "output_type": "stream",
     "text": [
      "InSufficient Balance..!!!!\n",
      "\n",
      "---------------------------------------\n",
      "\n"
     ]
    },
    {
     "name": "stdin",
     "output_type": "stream",
     "text": [
      "Available Services\n",
      "\n",
      "1. WITHDRAW\n",
      "2. DEPOSIT\n",
      "3. TRANSFER\n",
      "4. TRANSACTION HISTORY\n",
      "5. BALANCE\n",
      "6. QUIT\n",
      "Select The Option    785\n"
     ]
    },
    {
     "name": "stdout",
     "output_type": "stream",
     "text": [
      "---------------------------------------\n",
      "\n",
      "Invalid Selection\n",
      "\n",
      "---------------------------------------\n",
      "\n"
     ]
    },
    {
     "name": "stdin",
     "output_type": "stream",
     "text": [
      "Available Services\n",
      "\n",
      "1. WITHDRAW\n",
      "2. DEPOSIT\n",
      "3. TRANSFER\n",
      "4. TRANSACTION HISTORY\n",
      "5. BALANCE\n",
      "6. QUIT\n",
      "Select The Option    2\n"
     ]
    },
    {
     "name": "stdout",
     "output_type": "stream",
     "text": [
      "---------------------------------------\n",
      "\n"
     ]
    },
    {
     "name": "stdin",
     "output_type": "stream",
     "text": [
      "Enter the Amount :  8569\n"
     ]
    },
    {
     "name": "stdout",
     "output_type": "stream",
     "text": [
      "Deposit Successful...\n",
      "\n"
     ]
    },
    {
     "name": "stdin",
     "output_type": "stream",
     "text": [
      "Want to Display Balance (YES-1 | NO-0) :  1\n"
     ]
    },
    {
     "name": "stdout",
     "output_type": "stream",
     "text": [
      "---------------------------------------\n",
      "\n",
      "Available Balance : 13156.0\n",
      "\n",
      "---------------------------------------\n",
      "\n"
     ]
    },
    {
     "name": "stdin",
     "output_type": "stream",
     "text": [
      "Available Services\n",
      "\n",
      "1. WITHDRAW\n",
      "2. DEPOSIT\n",
      "3. TRANSFER\n",
      "4. TRANSACTION HISTORY\n",
      "5. BALANCE\n",
      "6. QUIT\n",
      "Select The Option    5\n"
     ]
    },
    {
     "name": "stdout",
     "output_type": "stream",
     "text": [
      "---------------------------------------\n",
      "\n",
      "Available Balance : 13156.0\n",
      "---------------------------------------\n",
      "\n"
     ]
    },
    {
     "name": "stdin",
     "output_type": "stream",
     "text": [
      "Available Services\n",
      "\n",
      "1. WITHDRAW\n",
      "2. DEPOSIT\n",
      "3. TRANSFER\n",
      "4. TRANSACTION HISTORY\n",
      "5. BALANCE\n",
      "6. QUIT\n",
      "Select The Option    4\n"
     ]
    },
    {
     "name": "stdout",
     "output_type": "stream",
     "text": [
      "---------------------------------------\n",
      "\n",
      "     TRANSACTION HISTORY\n",
      "\n",
      "Deposit\t\t2023-10-19\t13156.0\n",
      "---------------------------------------\n",
      "\n",
      "Available Balance : \t\t13156.0\n",
      "---------------------------------------\n",
      "\n"
     ]
    },
    {
     "name": "stdin",
     "output_type": "stream",
     "text": [
      "Available Services\n",
      "\n",
      "1. WITHDRAW\n",
      "2. DEPOSIT\n",
      "3. TRANSFER\n",
      "4. TRANSACTION HISTORY\n",
      "5. BALANCE\n",
      "6. QUIT\n",
      "Select The Option    1\n"
     ]
    },
    {
     "name": "stdout",
     "output_type": "stream",
     "text": [
      "---------------------------------------\n",
      "\n"
     ]
    },
    {
     "name": "stdin",
     "output_type": "stream",
     "text": [
      "Enter the Amount :  100\n"
     ]
    },
    {
     "name": "stdout",
     "output_type": "stream",
     "text": [
      "Withdraw Successful...\n",
      "\n"
     ]
    },
    {
     "name": "stdin",
     "output_type": "stream",
     "text": [
      "Want to Display Balance (YES-1 | NO-0) :  1\n"
     ]
    },
    {
     "name": "stdout",
     "output_type": "stream",
     "text": [
      "---------------------------------------\n",
      "\n",
      "Available Balance : 13056.0\n",
      "\n",
      "---------------------------------------\n",
      "\n"
     ]
    },
    {
     "name": "stdin",
     "output_type": "stream",
     "text": [
      "Available Services\n",
      "\n",
      "1. WITHDRAW\n",
      "2. DEPOSIT\n",
      "3. TRANSFER\n",
      "4. TRANSACTION HISTORY\n",
      "5. BALANCE\n",
      "6. QUIT\n",
      "Select The Option    4\n"
     ]
    },
    {
     "name": "stdout",
     "output_type": "stream",
     "text": [
      "---------------------------------------\n",
      "\n",
      "     TRANSACTION HISTORY\n",
      "\n",
      "Deposit\t\t2023-10-19\t13156.0\n",
      "Withdraw\t2023-10-19\t13056.0\n",
      "---------------------------------------\n",
      "\n",
      "Available Balance : \t\t13056.0\n",
      "---------------------------------------\n",
      "\n"
     ]
    },
    {
     "name": "stdin",
     "output_type": "stream",
     "text": [
      "Available Services\n",
      "\n",
      "1. WITHDRAW\n",
      "2. DEPOSIT\n",
      "3. TRANSFER\n",
      "4. TRANSACTION HISTORY\n",
      "5. BALANCE\n",
      "6. QUIT\n",
      "Select The Option    3\n"
     ]
    },
    {
     "name": "stdout",
     "output_type": "stream",
     "text": [
      "---------------------------------------\n",
      "\n"
     ]
    },
    {
     "name": "stdin",
     "output_type": "stream",
     "text": [
      "Enter the Accunt Number: 85475698\n",
      "Enter the Receiver Name: Raju\n",
      "Enter Amount to be Transferred :  78564\n"
     ]
    },
    {
     "name": "stdout",
     "output_type": "stream",
     "text": [
      "Insufficient Balance.\n",
      "\n",
      "----------------------------------------------\n",
      "\n",
      "Available Balance : 13056.0\n",
      "\n",
      "----------------------------------------------\n",
      "\n",
      "---------------------------------------\n",
      "\n"
     ]
    },
    {
     "name": "stdin",
     "output_type": "stream",
     "text": [
      "Available Services\n",
      "\n",
      "1. WITHDRAW\n",
      "2. DEPOSIT\n",
      "3. TRANSFER\n",
      "4. TRANSACTION HISTORY\n",
      "5. BALANCE\n",
      "6. QUIT\n",
      "Select The Option    4\n"
     ]
    },
    {
     "name": "stdout",
     "output_type": "stream",
     "text": [
      "---------------------------------------\n",
      "\n",
      "     TRANSACTION HISTORY\n",
      "\n",
      "Deposit\t\t2023-10-19\t13156.0\n",
      "Withdraw\t2023-10-19\t13056.0\n",
      "---------------------------------------\n",
      "\n",
      "Available Balance : \t\t13056.0\n",
      "---------------------------------------\n",
      "\n"
     ]
    },
    {
     "name": "stdin",
     "output_type": "stream",
     "text": [
      "Available Services\n",
      "\n",
      "1. WITHDRAW\n",
      "2. DEPOSIT\n",
      "3. TRANSFER\n",
      "4. TRANSACTION HISTORY\n",
      "5. BALANCE\n",
      "6. QUIT\n",
      "Select The Option    3\n"
     ]
    },
    {
     "name": "stdout",
     "output_type": "stream",
     "text": [
      "---------------------------------------\n",
      "\n"
     ]
    },
    {
     "name": "stdin",
     "output_type": "stream",
     "text": [
      "Enter the Accunt Number: 758469852\n",
      "Enter the Receiver Name: Prasanna Kunmar\n",
      "Enter Amount to be Transferred :  7854\n"
     ]
    },
    {
     "name": "stdout",
     "output_type": "stream",
     "text": [
      "Transfer Successful.\n",
      "\n",
      "----------------------------------------------\n",
      "\n",
      "Available Balance : 5202.0\n",
      "---------------------------------------\n",
      "\n"
     ]
    },
    {
     "name": "stdin",
     "output_type": "stream",
     "text": [
      "Available Services\n",
      "\n",
      "1. WITHDRAW\n",
      "2. DEPOSIT\n",
      "3. TRANSFER\n",
      "4. TRANSACTION HISTORY\n",
      "5. BALANCE\n",
      "6. QUIT\n",
      "Select The Option    4\n"
     ]
    },
    {
     "name": "stdout",
     "output_type": "stream",
     "text": [
      "---------------------------------------\n",
      "\n",
      "     TRANSACTION HISTORY\n",
      "\n",
      "Deposit\t\t2023-10-19\t13156.0\n",
      "Withdraw\t2023-10-19\t13056.0\n",
      "Transfer\t2023-10-19\t5202.0\n",
      "---------------------------------------\n",
      "\n",
      "Available Balance : \t\t5202.0\n",
      "---------------------------------------\n",
      "\n"
     ]
    },
    {
     "name": "stdin",
     "output_type": "stream",
     "text": [
      "Available Services\n",
      "\n",
      "1. WITHDRAW\n",
      "2. DEPOSIT\n",
      "3. TRANSFER\n",
      "4. TRANSACTION HISTORY\n",
      "5. BALANCE\n",
      "6. QUIT\n",
      "Select The Option    6\n"
     ]
    },
    {
     "name": "stdout",
     "output_type": "stream",
     "text": [
      "---------------------------------------\n",
      "\n",
      "THANK YOU!!!\n",
      "\n"
     ]
    }
   ],
   "source": [
    "import datetime as dt\n",
    "import time\n",
    "class ATM: \n",
    "    Acc_Details = {'uday' : ['9844',4587.00,'SBI098765'],'aditya' : ['8526', 98765.58,'BOB124567'],'Prashanth' : ['7896',10000.45,'AMB9182B0'],'Balvir' : ['5689',85460.89,'FRN876BG4']}\n",
    "     \n",
    "    def __init__(self,userid,pin): \n",
    "        self.userid = userid\n",
    "        self.pin = pin\n",
    "        self.Transaction_history = []\n",
    "        \n",
    "    def authentic(self): \n",
    "        if self.userid in self.Acc_Details.keys() and self.pin == self.Acc_Details[self.userid][0]: \n",
    "            return True \n",
    "        else: \n",
    "            return False\n",
    "            \n",
    "    def Deposit(self): \n",
    "        cond = True \n",
    "        while cond:\n",
    "            amount = int(input(\"Enter the Amount : \"))   \n",
    "            if amount<=0: \n",
    "                print(\"Enter Valid Amount\\n\") \n",
    "                continue\n",
    "            self.Acc_Details[self.userid][1]+=amount \n",
    "            print(\"Deposit Successful...\\n\") \n",
    "            balance_enquiry = int(input(\"Want to Display Balance (YES-1 | NO-0) : \" ))\n",
    "            if balance_enquiry == 1: \n",
    "                print(\"---------------------------------------\\n\")\n",
    "                print(f\"Available Balance : {self.Balance_enquiry()}\\n\")  \n",
    "            else: \n",
    "                print(\"THANK YOU\\n\") \n",
    "            withdraw = 'Deposit\\t\\t'+str(dt.datetime.now().date())+'\\t'+str(self.Balance_enquiry())\n",
    "            self.Transaction_history.append(withdraw)\n",
    "            break\n",
    "            \n",
    "    def withdraw(self):\n",
    "        cond = True \n",
    "        while cond:\n",
    "            amount = int(input(\"Enter the Amount : \")) \n",
    "            if amount<=0: \n",
    "                print(\"Enter Valid Amount\\n\")\n",
    "                continue\n",
    "            if self.Balance_enquiry()>=amount: \n",
    "                self.Acc_Details[self.userid][1]-=amount \n",
    "                print(\"Withdraw Successful...\\n\") \n",
    "                balance_enquiry = int(input(\"Want to Display Balance (YES-1 | NO-0) : \" ))\n",
    "            else: \n",
    "                print(\"InSufficient Balance..!!!!\\n\")\n",
    "                break\n",
    "            if balance_enquiry == 1: \n",
    "                print(\"---------------------------------------\\n\")\n",
    "                print(f\"Available Balance : {self.Balance_enquiry()}\\n\")  \n",
    "            else: \n",
    "                print(\"THANK YOU\\n\") \n",
    "            withdraw = 'Withdraw\\t'+str(dt.datetime.now().date())+'\\t'+str(self.Balance_enquiry())\n",
    "            self.Transaction_history.append(withdraw)\n",
    "            break\n",
    "            \n",
    "        \n",
    "    def Balance_enquiry(self): \n",
    "        return self.Acc_Details[self.userid][1]\n",
    "    \n",
    "    def Transfer(self):\n",
    "        cond = True \n",
    "        while cond:\n",
    "            acc_number = input(\"Enter the Accunt Number:\") \n",
    "            acc_user = input(\"Enter the Receiver Name:\") \n",
    "            amount = int(input(\"Enter Amount to be Transferred : \")) \n",
    "            if amount<=0: \n",
    "                print(\"Enter Valid Amount\\n\") \n",
    "                continue\n",
    "            if self.Balance_enquiry()<amount: \n",
    "                print(\"Insufficient Balance.\\n\") \n",
    "                print(\"----------------------------------------------\\n\") \n",
    "                print(f'Available Balance : {self.Balance_enquiry()}\\n') \n",
    "                print(\"----------------------------------------------\\n\") \n",
    "                break\n",
    "            else: \n",
    "                if acc_user in self.Acc_Details.keys() and acc_number == self.Acc_Details[acc_usr][2]:\n",
    "                    self.Acc_Details[acc_user][1]+=amount \n",
    "                self.Acc_Details[self.userid][1]-=amount\n",
    "                print(\"Transfer Successful.\\n\") \n",
    "                print(\"----------------------------------------------\\n\") \n",
    "                print(f'Available Balance : {self.Balance_enquiry()}') \n",
    "                transfer = 'Transfer\\t'+str(dt.datetime.now().date())+'\\t'+str(self.Balance_enquiry())\n",
    "                self.Transaction_history.append(transfer)\n",
    "                break\n",
    "                \n",
    "                \n",
    "    def Transaction_History(self): \n",
    "        print(\" \"*5+\"TRANSACTION HISTORY\\n\")\n",
    "        for i in self.Transaction_history: \n",
    "            print(i,sep='\\n') \n",
    "        print(\"---------------------------------------\\n\")\n",
    "        print(f\"Available Balance : \\t\\t{self.Balance_enquiry()}\")\n",
    "        \n",
    "        \n",
    "condition = True\n",
    "print(\" \"*20+\"--------------------------------------\")\n",
    "print(\" \"*20+\"--------------------------------------\")  \n",
    "print(' '*24 +'*'+' '*1+'*'+' '*6+'*'*7+' '*5+'*'+' '*6+'*')\n",
    "print(\" \"*23+'*'+' '*3+'*'+' '*8+'*'+' '*7+'*'+' '*2+'*'+' '*2+'*'+' '*2+'*')\n",
    "print(\" \"*22+'*'+'*'*5+'*'+' '*7+'*'+' '*6+'*'+' '*5+'*'+' '*5+'*')\n",
    "print(\" \"*21+'*'+' '*7+'*'+' '*6+'*'+' '*5+'*'+' '*13+'*\\n')\n",
    "print(\" \"*20+\"--------------------------------------\")\n",
    "print(\" \"*20+\"--------------------------------------\\n\\n\")\n",
    "while condition: \n",
    "    userid = input(\"Enter UserID : \")\n",
    "    pin = input(\"Enter the PIN : \")\n",
    "    start = ATM(userid,pin)\n",
    "    if start.authentic() == True:\n",
    "        print(\"\\nAUTHENTICATION SUCCESSFULL\")\n",
    "        print(\"\\n---------------------------------------\\n\")\n",
    "        print(\" \"*8+\"WELCOME\\n\")\n",
    "        while True:\n",
    "            try:\n",
    "                print(\"---------------------------------------\\n\")\n",
    "                valid = int(input(\"Available Services\\n\\n1. WITHDRAW\\n2. DEPOSIT\\n3. TRANSFER\\n4. TRANSACTION HISTORY\\n5. BALANCE\\n6. QUIT\\n\"+\"Select The Option   \")) \n",
    "                print(\"---------------------------------------\\n\")\n",
    "                if valid == 1:\n",
    "                    start.withdraw()\n",
    "                    continue\n",
    "                elif valid == 2: \n",
    "                    start.Deposit()\n",
    "                    continue\n",
    "                elif valid == 3: \n",
    "                    start.Transfer() \n",
    "                    continue\n",
    "                elif valid == 4: \n",
    "                    start.Transaction_History() \n",
    "                    continue\n",
    "                elif valid == 5: \n",
    "                    print(f\"Available Balance : {start.Balance_enquiry()}\")\n",
    "                    continue\n",
    "                elif valid == 6: \n",
    "                    print(\"THANK YOU!!!\\n\") \n",
    "                    break\n",
    "                else:\n",
    "                    print(\"Invalid Selection\\n\") \n",
    "                    continue\n",
    "            except: \n",
    "                print(\"Found Invalid Input....\\n\") \n",
    "                print(\"Wait while we Restart System for You....\\n\") \n",
    "                time.sleep(2) \n",
    "                print(\"Estimated Time - 5sec\\n\")\n",
    "                time.sleep(5)\n",
    "                continue\n",
    "    else: \n",
    "        print(\"Wrong Credentials Check Password or UserName.\\n\") \n",
    "        continue\n",
    "    condition = False\n",
    "            \n",
    "        \n",
    "        \n",
    "        "
   ]
  },
  {
   "cell_type": "code",
   "execution_count": null,
   "id": "40f099dc-a1c5-48d1-be12-414d59e09c4a",
   "metadata": {},
   "outputs": [],
   "source": []
  }
 ],
 "metadata": {
  "kernelspec": {
   "display_name": "Python 3 (ipykernel)",
   "language": "python",
   "name": "python3"
  },
  "language_info": {
   "codemirror_mode": {
    "name": "ipython",
    "version": 3
   },
   "file_extension": ".py",
   "mimetype": "text/x-python",
   "name": "python",
   "nbconvert_exporter": "python",
   "pygments_lexer": "ipython3",
   "version": "3.10.9"
  }
 },
 "nbformat": 4,
 "nbformat_minor": 5
}
